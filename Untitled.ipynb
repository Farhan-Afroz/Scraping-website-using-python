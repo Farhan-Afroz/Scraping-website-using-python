{
 "cells": [
  {
   "cell_type": "code",
   "execution_count": null,
   "id": "07ba6be5-0ea7-43e5-9202-48e0d40ce854",
   "metadata": {},
   "outputs": [],
   "source": []
  }
 ],
 "metadata": {
  "kernelspec": {
   "display_name": "",
   "name": ""
  },
  "language_info": {
   "name": ""
  }
 },
 "nbformat": 4,
 "nbformat_minor": 5
}
